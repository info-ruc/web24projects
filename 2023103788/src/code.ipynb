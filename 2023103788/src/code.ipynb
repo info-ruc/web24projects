{
  "cells": [
    {
      "cell_type": "code",
      "execution_count": null,
      "id": "9ca8c5df-7a12-4d0a-82a4-38b57eae76ad",
      "metadata": {
        "execution": {
          "iopub.execute_input": "2022-06-09T07:48:08.957997Z",
          "iopub.status.busy": "2022-06-09T07:48:08.957833Z",
          "iopub.status.idle": "2022-06-09T07:49:00.661863Z",
          "shell.execute_reply": "2022-06-09T07:49:00.660847Z",
          "shell.execute_reply.started": "2022-06-09T07:48:08.957976Z"
        },
        "scrolled": true,
        "tags": []
      },
      "outputs": [],
      "source": [
        "!pip install paddlelite\n",
        "!pip install paddlex==1.3.11\n",
        "!pip list |grep paddle"
      ]
    },
    {
      "cell_type": "code",
      "execution_count": 4,
      "id": "8813cd69-9642-4b60-a9b9-9ae1b73a5863",
      "metadata": {
        "execution": {
          "iopub.execute_input": "2022-06-08T05:18:21.769618Z",
          "iopub.status.busy": "2022-06-08T05:18:21.769276Z",
          "iopub.status.idle": "2022-06-08T05:18:21.774505Z",
          "shell.execute_reply": "2022-06-08T05:18:21.774058Z",
          "shell.execute_reply.started": "2022-06-08T05:18:21.769588Z"
        },
        "scrolled": true,
        "tags": []
      },
      "outputs": [],
      "source": [
        "defect_name2label = {\n",
        "    '破洞': 1, '水渍': 2, '油渍': 2, '污渍': 2, '三丝': 3, '结头': 4, '花板跳': 5, '百脚': 6, '毛粒': 7,\n",
        "    '粗经': 8, '松经': 9, '断经': 10, '吊经': 11, '粗维': 12, '纬缩': 13, '浆斑': 14, '整经结': 15, '星跳': 16, '跳花': 16,\n",
        "    '断氨纶': 17, '稀密档': 18, '浪纹档': 18, '色差档': 18, '磨痕': 19, '轧痕': 19, '修痕': 19, '烧毛痕': 19, '死皱': 20, '云织': 20,\n",
        "    '双纬': 20, '双经': 20, '跳纱': 20, '筘路': 20, '纬纱不良': 20,\n",
        "}"
      ]
    },
    {
      "cell_type": "code",
      "execution_count": 5,
      "id": "fef0fb66-c87a-48ae-b80e-adf3f8ca2bb5",
      "metadata": {
        "execution": {
          "iopub.execute_input": "2022-06-08T05:18:21.776240Z",
          "iopub.status.busy": "2022-06-08T05:18:21.775829Z",
          "iopub.status.idle": "2022-06-08T05:18:23.384959Z",
          "shell.execute_reply": "2022-06-08T05:18:23.384207Z",
          "shell.execute_reply.started": "2022-06-08T05:18:21.776217Z"
        },
        "scrolled": true,
        "tags": []
      },
      "outputs": [],
      "source": [
        "import os\n",
        "import pandas as pd\n",
        "import numpy as np\n",
        "import shutil\n",
        "os.environ['CUDA_VISIBLE_DEVICES'] = '0'\n",
        "import paddlex as pdx"
      ]
    },
    {
      "cell_type": "code",
      "execution_count": 6,
      "id": "da3b05dc-80b6-472c-b7ba-6e9c122596ef",
      "metadata": {
        "execution": {
          "iopub.execute_input": "2022-06-08T05:18:23.386501Z",
          "iopub.status.busy": "2022-06-08T05:18:23.386185Z",
          "iopub.status.idle": "2022-06-08T05:18:23.391225Z",
          "shell.execute_reply": "2022-06-08T05:18:23.390730Z",
          "shell.execute_reply.started": "2022-06-08T05:18:23.386475Z"
        },
        "scrolled": true,
        "tags": []
      },
      "outputs": [],
      "source": [
        "from paddlex.det import transforms\n",
        "train_transforms = transforms.Compose([\n",
        "    transforms.RandomHorizontalFlip(),\n",
        "    transforms.Normalize(),\n",
        "    transforms.ResizeByShort(short_size=608, max_size=608),\n",
        "    transforms.Padding(coarsest_stride=32),\n",
        "    transforms.Resize(target_size=512, interp='LINEAR')\n",
        "])\n",
        "\n",
        "eval_transforms = transforms.Compose([\n",
        "    transforms.Normalize(),\n",
        "    transforms.ResizeByShort(short_size=608, max_size=608),\n",
        "    transforms.Padding(coarsest_stride=32),\n",
        "    transforms.Resize(target_size=512, interp='LINEAR')# 转换照片大小 YOLO要求照片大小为32的倍数\n",
        "])"
      ]
    },
    {
      "cell_type": "code",
      "execution_count": null,
      "id": "b0f2ba37-6d0c-444c-8d51-564a5e82ee8e",
      "metadata": {
        "execution": {
          "iopub.execute_input": "2022-06-08T05:18:23.392364Z",
          "iopub.status.busy": "2022-06-08T05:18:23.392026Z",
          "iopub.status.idle": "2022-06-08T05:18:23.712051Z",
          "shell.execute_reply": "2022-06-08T05:18:23.711459Z",
          "shell.execute_reply.started": "2022-06-08T05:18:23.392342Z"
        },
        "scrolled": true,
        "tags": []
      },
      "outputs": [],
      "source": [
        "train_dataset = pdx.datasets.CocoDetection(\n",
        "    data_dir='./train_dataset',\n",
        "    ann_file='./instances_train.json',\n",
        "    transforms=train_transforms,\n",
        "    shuffle=True)\n",
        "eval_dataset = pdx.datasets.CocoDetection(\n",
        "    data_dir='./val_dataset',\n",
        "    ann_file='instances_val.json',\n",
        "    transforms=eval_transforms)"
      ]
    },
    {
      "cell_type": "code",
      "execution_count": 8,
      "id": "04d2233a-cbda-4a97-a123-1f6dfae63bea",
      "metadata": {
        "execution": {
          "iopub.execute_input": "2022-06-08T05:18:23.713452Z",
          "iopub.status.busy": "2022-06-08T05:18:23.712957Z",
          "iopub.status.idle": "2022-06-08T05:18:23.719433Z",
          "shell.execute_reply": "2022-06-08T05:18:23.718943Z",
          "shell.execute_reply.started": "2022-06-08T05:18:23.713427Z"
        },
        "scrolled": true,
        "tags": []
      },
      "outputs": [],
      "source": [
        "num_classes = len(train_dataset.labels)\n",
        "#model = pdx.det.FasterRCNN(backbone='ResNet50_vd',with_fpn=False,num_classes=num_classes)\n",
        "model = pdx.det.PPYOLO(num_classes=num_classes, backbone='ResNet50_vd_ssld', with_dcn_v2=False,)"
      ]
    },
    {
      "cell_type": "code",
      "execution_count": null,
      "id": "749caa83-03c0-45f6-8d2e-bb934310454d",
      "metadata": {
        "execution": {
          "iopub.execute_input": "2022-06-08T05:18:23.720632Z",
          "iopub.status.busy": "2022-06-08T05:18:23.720195Z"
        },
        "scrolled": true,
        "tags": []
      },
      "outputs": [],
      "source": [
        "model.train(num_epochs=240, \n",
        "            train_dataset=train_dataset, \n",
        "            train_batch_size=8, eval_dataset=eval_dataset, \n",
        "            save_interval_epochs=10, log_interval_steps=200,\n",
        "             save_dir='output/PPYOLO', optimizer=None, learning_rate=1.0/8000, use_ema=True, ema_decay=0.9998)"
      ]
    },
    {
      "cell_type": "code",
      "execution_count": null,
      "id": "74175db0-dce3-4620-bcac-123b36e7afdc",
      "metadata": {
        "scrolled": true,
        "tags": []
      },
      "outputs": [],
      "source": [
        "model = pdx.load_model('output/PPYOLO/best_model')#加载模型\n",
        "model.evaluate(eval_dataset, batch_size=1, epoch_id=None, metric=None, return_details=False)\n",
        "eval_details_file = 'output/PPYOLO/best_model/eval_details.json'\n",
        "pdx.det.draw_pr_curve(eval_details_file, save_dir='./fabric_flaw_det')"
      ]
    },
    {
      "cell_type": "code",
      "execution_count": null,
      "id": "057e44cb",
      "metadata": {},
      "outputs": [],
      "source": [
        "import json \n",
        "import os\n",
        "import paddlex as pdx\n",
        "os.environ['CUDA_VISIBLE_DEVICES'] = '0'"
      ]
    },
    {
      "cell_type": "code",
      "execution_count": null,
      "id": "b3c2c92b",
      "metadata": {},
      "outputs": [],
      "source": [
        "predictor = pdx.deploy.Predictor('inference_model/PPYOLO')\n",
        "testdata_path = \"test_dataset\"\n",
        "namelist = os.listdir(testdata_path)"
      ]
    },
    {
      "cell_type": "code",
      "execution_count": null,
      "id": "4abdbd44",
      "metadata": {},
      "outputs": [],
      "source": [
        "result = [] \n",
        "for i in namelist:\n",
        "    if i == \".ipynb_checkpoints\" or i == \"Untitled Folder\":\n",
        "        continue\n",
        "    cur = predictor.predict(image=os.path.join(testdata_path,i))\n",
        "    cur = sorted(cur,key = lambda e:e['score'],reverse = True)\n",
        "    if len(cur) == 0 : \n",
        "        continue\n",
        "    category_int = int(cur[0]['category'])\n",
        "    x1,y1,x2,y2 = cur[0]['bbox'][0], cur[0]['bbox'][1], cur[0]['bbox'][0] + cur[0]['bbox'][2], cur[0]['bbox'][1] + cur[0]['bbox'][3]\n",
        "    result.append({'name':i,'category':category_int,'bbox':[x1,y1,x2,y2],'score': cur[0]['score']}) \n",
        "\n",
        "with open('result.json', 'w') as fp: \n",
        "    json.dump(result, fp, indent=4, separators=(',', ': '))"
      ]
    }
  ],
  "metadata": {
    "kernelspec": {
      "display_name": "Pyolite",
      "language": "python",
      "name": "python"
    },
    "language_info": {
      "codemirror_mode": {
        "name": "python",
        "version": 3
      },
      "file_extension": ".py",
      "mimetype": "text/x-python",
      "name": "python",
      "nbconvert_exporter": "python",
      "pygments_lexer": "ipython3",
      "version": "3.8"
    }
  },
  "nbformat": 4,
  "nbformat_minor": 5
}
